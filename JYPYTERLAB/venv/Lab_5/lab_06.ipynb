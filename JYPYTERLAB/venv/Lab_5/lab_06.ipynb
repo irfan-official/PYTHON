{
 "cells": [
  {
   "cell_type": "markdown",
   "metadata": {},
   "source": [
    "### Load the IRIS Dataset\n",
    "---"
   ]
  },
  {
   "cell_type": "code",
   "execution_count": null,
   "metadata": {},
   "outputs": [],
   "source": [
    "from sklearn import datasets\n",
    "\n",
    "iris = datasets.load_iris()\n",
    "print(iris)  # Print first 5 rows\n"
   ]
  },
  {
   "cell_type": "markdown",
   "metadata": {},
   "source": [
    "#### 1. Load the Dataset from URL\n",
    "----"
   ]
  },
  {
   "cell_type": "code",
   "execution_count": 34,
   "metadata": {},
   "outputs": [
    {
     "name": "stdout",
     "output_type": "stream",
     "text": [
      "   sepal_length  sepal_width  petal_length  petal_width      species\n",
      "0           5.1          3.5           1.4          0.2  Iris-setosa\n",
      "1           4.9          3.0           1.4          0.2  Iris-setosa\n",
      "2           4.7          3.2           1.3          0.2  Iris-setosa\n",
      "3           4.6          3.1           1.5          0.2  Iris-setosa\n",
      "4           5.0          3.6           1.4          0.2  Iris-setosa\n"
     ]
    }
   ],
   "source": [
    "import pandas as pd\n",
    "\n",
    "url = \"https://archive.ics.uci.edu/ml/machine-learning-databases/iris/iris.data\"\n",
    "columns = [\"sepal_length\", \"sepal_width\", \"petal_length\", \"petal_width\", \"species\"]\n",
    "\n",
    "iris_df = pd.read_csv(url, names=columns)\n",
    "print(iris_df.head())\n"
   ]
  },
  {
   "cell_type": "markdown",
   "metadata": {},
   "source": [
    "### 2. Describe\n",
    "----"
   ]
  },
  {
   "cell_type": "code",
   "execution_count": null,
   "metadata": {},
   "outputs": [],
   "source": [
    "print(iris_df.describe())"
   ]
  },
  {
   "cell_type": "markdown",
   "metadata": {},
   "source": [
    "#### 3. Output using Head and Tail\n",
    "----"
   ]
  },
  {
   "cell_type": "code",
   "execution_count": null,
   "metadata": {},
   "outputs": [],
   "source": [
    "# Using Head\n",
    "print(iris_df.head(30))\n",
    "\n",
    "# Using Tail\n",
    "print(iris_df.tail(30))\n"
   ]
  },
  {
   "cell_type": "markdown",
   "metadata": {},
   "source": [
    "#### 4. Missing value Handling\n",
    "----"
   ]
  },
  {
   "cell_type": "code",
   "execution_count": null,
   "metadata": {},
   "outputs": [],
   "source": [
    "# Creating null value \n",
    "import numpy as np\n",
    "\n",
    "iris_df.loc[2, \"sepal_length\"] = np.nan  # Insert NaN in row index 2, column \"sepal_length\"\n",
    "iris_df.loc[5, \"petal_width\"] = np.nan  # Insert NaN in row index 5, column \"petal_width\"\n",
    "\n",
    "print(iris_df.isnull().sum())  # Shows the count of missing values per column"
   ]
  },
  {
   "cell_type": "code",
   "execution_count": 35,
   "metadata": {},
   "outputs": [
    {
     "name": "stdout",
     "output_type": "stream",
     "text": [
      "     sepal_length  sepal_width  petal_length  petal_width         species  \\\n",
      "0             5.1          3.5           1.4          0.2     Iris-setosa   \n",
      "1             4.9          3.0           1.4          0.2     Iris-setosa   \n",
      "2             4.7          3.2           1.3          0.2     Iris-setosa   \n",
      "3             4.6          3.1           1.5          0.2     Iris-setosa   \n",
      "4             5.0          3.6           1.4          0.2     Iris-setosa   \n",
      "..            ...          ...           ...          ...             ...   \n",
      "145           6.7          3.0           5.2          2.3  Iris-virginica   \n",
      "146           6.3          2.5           5.0          1.9  Iris-virginica   \n",
      "147           6.5          3.0           5.2          2.0  Iris-virginica   \n",
      "148           6.2          3.4           5.4          2.3  Iris-virginica   \n",
      "149           5.9          3.0           5.1          1.8  Iris-virginica   \n",
      "\n",
      "     species_encoded  \n",
      "0                  0  \n",
      "1                  0  \n",
      "2                  0  \n",
      "3                  0  \n",
      "4                  0  \n",
      "..               ...  \n",
      "145                2  \n",
      "146                2  \n",
      "147                2  \n",
      "148                2  \n",
      "149                2  \n",
      "\n",
      "[150 rows x 6 columns]\n"
     ]
    }
   ],
   "source": [
    "\n",
    "# Create a LabelEncoder instance\n",
    "from sklearn.preprocessing import LabelEncoder  # Import LabelEncoder\n",
    "le = LabelEncoder()\n",
    "iris_df[\"species_encoded\"] = le.fit_transform(iris_df['species'])\n",
    "print(iris_df)"
   ]
  },
  {
   "cell_type": "code",
   "execution_count": null,
   "metadata": {},
   "outputs": [],
   "source": []
  },
  {
   "cell_type": "markdown",
   "metadata": {},
   "source": [
    "#### 5. Feature Engineering\n",
    "----"
   ]
  },
  {
   "cell_type": "code",
   "execution_count": null,
   "metadata": {},
   "outputs": [],
   "source": [
    "# Adding sepal-Area and petal-area and area-ratio\n",
    "\n",
    "iris_df[\"sepal_area\"] = iris_df[\"sepal_length\"] * iris_df[\"sepal_width\"]\n",
    "iris_df[\"petal_area\"] = iris_df[\"petal_length\"] * iris_df[\"petal_width\"]\n",
    "iris_df[\"area_ratio\"] = iris_df[\"petal_area\"] / iris_df[\"sepal_area\"]\n",
    "\n",
    "print(iris_df.head())"
   ]
  },
  {
   "cell_type": "code",
   "execution_count": null,
   "metadata": {},
   "outputs": [],
   "source": [
    "# testing the values\n",
    "print(iris_df.describe())"
   ]
  },
  {
   "cell_type": "markdown",
   "metadata": {},
   "source": [
    "### Handling Data\n",
    "----"
   ]
  },
  {
   "cell_type": "code",
   "execution_count": null,
   "metadata": {},
   "outputs": [],
   "source": [
    "print(iris_df)"
   ]
  },
  {
   "cell_type": "markdown",
   "metadata": {},
   "source": [
    "### 6. Coorelation\n",
    "----"
   ]
  },
  {
   "cell_type": "code",
   "execution_count": null,
   "metadata": {},
   "outputs": [],
   "source": [
    "import matplotlib.pyplot as plt  # Correct import for matplotlib\n",
    "import seaborn as sns  # Import seaborn\n",
    "\n",
    "from sklearn.preprocessing import LabelEncoder  # Import LabelEncoder\n",
    "\n",
    "# Label encoding the 'species' column\n",
    "le = LabelEncoder()\n",
    "iris_df[\"species_encoded\"] = le.fit_transform(iris_df['species'])\n",
    "\n",
    "# Print the updated dataframe\n",
    "print(iris_df)\n",
    "\n",
    "# Compute correlation matrix (excluding non-numeric columns like 'species' and 'species_encoded')\n",
    "co_matrix = iris_df.select_dtypes(include=['float64', 'int64']).corr()\n",
    "\n",
    "# Plot the correlation matrix\n",
    "plt.figure(figsize=(10, 8))\n",
    "sns.heatmap(co_matrix, annot=True, cmap='coolwarm', fmt='.2f', linewidths=0.5)\n",
    "\n",
    "# Add title\n",
    "plt.title('Correlation Matrix')\n",
    "\n",
    "# Show the plot\n",
    "plt.show()\n"
   ]
  },
  {
   "cell_type": "markdown",
   "metadata": {},
   "source": [
    "### Data Normalization using Min max scaller"
   ]
  },
  {
   "cell_type": "code",
   "execution_count": 39,
   "metadata": {},
   "outputs": [
    {
     "name": "stdout",
     "output_type": "stream",
     "text": [
      "Min Max Normalized Data:    sepal_length  sepal_width  petal_length  petal_width  species_encoded\n",
      "0      0.222222     0.625000      0.067797     0.041667              0.0\n",
      "1      0.166667     0.416667      0.067797     0.041667              0.0\n",
      "2      0.111111     0.500000      0.050847     0.041667              0.0\n",
      "3      0.083333     0.458333      0.084746     0.041667              0.0\n",
      "4      0.194444     0.666667      0.067797     0.041667              0.0\n"
     ]
    }
   ],
   "source": [
    "import pandas as pd\n",
    "from sklearn.preprocessing import MinMaxScaler\n",
    "\n",
    "# Assuming you want to normalize the feature columns (excluding 'species')\n",
    "x = iris_df.drop('species', axis=1)  # Exclude the 'species' column\n",
    "\n",
    "# Initialize MinMaxScaler\n",
    "min_max_scaler = MinMaxScaler()\n",
    "\n",
    "# Apply transformation\n",
    "x_minmax = min_max_scaler.fit_transform(x)\n",
    "\n",
    "# Convert to DataFrame\n",
    "df_minmax = pd.DataFrame(x_minmax, columns=x.columns)\n",
    "\n",
    "# Print the first few rows of the scaled DataFrame\n",
    "print('Min Max Normalized Data:', df_minmax.head())\n"
   ]
  }
 ],
 "metadata": {
  "kernelspec": {
   "display_name": "Python 3",
   "language": "python",
   "name": "python3"
  },
  "language_info": {
   "codemirror_mode": {
    "name": "ipython",
    "version": 3
   },
   "file_extension": ".py",
   "mimetype": "text/x-python",
   "name": "python",
   "nbconvert_exporter": "python",
   "pygments_lexer": "ipython3",
   "version": "3.12.9"
  }
 },
 "nbformat": 4,
 "nbformat_minor": 2
}
