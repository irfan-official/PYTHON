{
 "cells": [
  {
   "cell_type": "markdown",
   "metadata": {},
   "source": [
    "# Basic Python Concepts\n",
    "---"
   ]
  },
  {
   "cell_type": "code",
   "execution_count": 2,
   "metadata": {},
   "outputs": [
    {
     "name": "stdout",
     "output_type": "stream",
     "text": [
      "10\n"
     ]
    }
   ],
   "source": [
    "# python input output\n",
    "\n",
    "# input and output\n",
    "x = input(\"Input a number\")\n",
    "print(x)"
   ]
  },
  {
   "cell_type": "markdown",
   "metadata": {},
   "source": [
    "### 1. Data Types\n",
    "---"
   ]
  },
  {
   "cell_type": "markdown",
   "metadata": {},
   "source": [
    "- Text type: `string`\n",
    "- Numeric Type: `int`, `float`, `complex`\n",
    "- Sequence Type: `list`, `tuple`, `range`, `Array()`\n",
    "- Mapping Type: `dist`\n",
    "- Set Type: `set`, `frozenset`\n",
    "- Boolean Type: `bool`\n",
    "- Binary Type: `bytes`, `bytearray`, `memoryview`\n",
    "- None Type: `None`, `Type` "
   ]
  },
  {
   "cell_type": "code",
   "execution_count": null,
   "metadata": {},
   "outputs": [],
   "source": [
    "import pandas as pd\n",
    "\n",
    "string_val = \"Irfan\"\n",
    "\n",
    "numeric_value_int = 100\n",
    "numeric_value_float = 100.30\n",
    "numeric_value_complex = 100 + 3j\n",
    "\n",
    "sequence_type_list = [1, \"Naira\", {\"email\": \"naira@irfans.dev\"}, (2,5,6,7)] # work like js Array, dynamic array\n",
    "sequence_type_tuple = (1, \"mao mao\") # work like list but data can't be delete # sequence_type_tuple.pop() # give an error\n",
    "sequence_type_range = list(range(10)) # [0, 1, 2, 3, 4, 5, 6, 7, 8, 9]\n",
    "sequence_type_array = pd.array([1,2,3, None, 5,], dtype='Int64')\n",
    "\n",
    "mapping_type_dist = {\"key 1\": \"value 1\", \"key 2\": \"value 2\"} # work like Json array\n",
    "\n",
    "set_type_sets = {1,2,3, \"kao\", None}\n",
    "set_type_frozen_Set = frozenset([1,2,3,4,5]) # perform operation like union, intersectioon, difference methos but not work others methods\n",
    "\n",
    "boolean_type_true = True\n",
    "boolean_type_false = False\n",
    "\n",
    "\n",
    "\n",
    "none_type_none = None"
   ]
  },
  {
   "cell_type": "markdown",
   "metadata": {},
   "source": [
    "### 2. Operators\n",
    "---"
   ]
  },
  {
   "cell_type": "markdown",
   "metadata": {},
   "source": [
    "- Ternary operator: `value_1 if condition else value_2`\n",
    "- arithmetic operator: `+`, `-`, `*`, `/`, `%`\n",
    "- comparison operator: `<`, `>`, `<=`, `>=`\n",
    "- logical operator: `and`, `or`, `not`\n",
    "- bitwise operator: `|`, `&`\n",
    "- assignment operator: `=`"
   ]
  },
  {
   "cell_type": "code",
   "execution_count": null,
   "metadata": {},
   "outputs": [
    {
     "name": "stdout",
     "output_type": "stream",
     "text": [
      "False\n"
     ]
    }
   ],
   "source": [
    "ternary_operator = 10 if x >= 10 else 20\n",
    "\n",
    "arithmetic_operator_plus = 10 + 20\n",
    "arithmetic_operator_minus = 10 - 20\n",
    "arithmetic_operator_multiplly = 10 * 20\n",
    "arithmetic_operator_division = 10 / 20\n",
    "arithmetic_operator_modulus = 10 % 20\n",
    "\n",
    "comparision_operator_less_than = 10 > 5\n",
    "comparision_operator_greater_than = 10 > 5\n",
    "comparision_operator_less_than_or_equalto = 10 <= 5\n",
    "comparision_operator_greater_than_or_equalto = 10 >= 5\n",
    "\n",
    "logical_operator_and = 10 and 20\n",
    "logical_operator_or = 10 or 20\n",
    "logical_operator_not = not 20\n",
    "\n"
   ]
  },
  {
   "cell_type": "markdown",
   "metadata": {},
   "source": [
    "### string \n",
    "---"
   ]
  },
  {
   "cell_type": "code",
   "execution_count": 42,
   "metadata": {},
   "outputs": [
    {
     "data": {
      "text/html": [
       "<div>\n",
       "<style scoped>\n",
       "    .dataframe tbody tr th:only-of-type {\n",
       "        vertical-align: middle;\n",
       "    }\n",
       "\n",
       "    .dataframe tbody tr th {\n",
       "        vertical-align: top;\n",
       "    }\n",
       "\n",
       "    .dataframe thead th {\n",
       "        text-align: right;\n",
       "    }\n",
       "</style>\n",
       "<table border=\"1\" class=\"dataframe\">\n",
       "  <thead>\n",
       "    <tr style=\"text-align: right;\">\n",
       "      <th></th>\n",
       "      <th>Number of times pregnant</th>\n",
       "      <th>Plasma glucose concentration a 2 hours in an oral glucose tolerance test</th>\n",
       "      <th>Diastolic blood pressure (mm Hg)</th>\n",
       "      <th>Triceps skin fold thickness (mm)</th>\n",
       "      <th>2-Hour serum insulin (mu U/ml)</th>\n",
       "      <th>Body mass index (weight in kg/(height in m)^2)</th>\n",
       "      <th>Diabetes pedigree function</th>\n",
       "      <th>Age</th>\n",
       "      <th>Outcome</th>\n",
       "    </tr>\n",
       "  </thead>\n",
       "  <tbody>\n",
       "    <tr>\n",
       "      <th>0</th>\n",
       "      <td>6</td>\n",
       "      <td>148</td>\n",
       "      <td>72</td>\n",
       "      <td>35</td>\n",
       "      <td>0</td>\n",
       "      <td>33.6</td>\n",
       "      <td>0.627</td>\n",
       "      <td>50</td>\n",
       "      <td>NaN</td>\n",
       "    </tr>\n",
       "    <tr>\n",
       "      <th>1</th>\n",
       "      <td>1</td>\n",
       "      <td>85</td>\n",
       "      <td>66</td>\n",
       "      <td>29</td>\n",
       "      <td>0</td>\n",
       "      <td>26.6</td>\n",
       "      <td>0.351</td>\n",
       "      <td>31</td>\n",
       "      <td>0.0</td>\n",
       "    </tr>\n",
       "  </tbody>\n",
       "</table>\n",
       "</div>"
      ],
      "text/plain": [
       "   Number of times pregnant  \\\n",
       "0                         6   \n",
       "1                         1   \n",
       "\n",
       "   Plasma glucose concentration a 2 hours in an oral glucose tolerance test  \\\n",
       "0                                                148                          \n",
       "1                                                 85                          \n",
       "\n",
       "   Diastolic blood pressure (mm Hg)  Triceps skin fold thickness (mm)  \\\n",
       "0                                72                                35   \n",
       "1                                66                                29   \n",
       "\n",
       "   2-Hour serum insulin (mu U/ml)  \\\n",
       "0                               0   \n",
       "1                               0   \n",
       "\n",
       "   Body mass index (weight in kg/(height in m)^2)  Diabetes pedigree function  \\\n",
       "0                                            33.6                       0.627   \n",
       "1                                            26.6                       0.351   \n",
       "\n",
       "   Age  Outcome  \n",
       "0   50      NaN  \n",
       "1   31      0.0  "
      ]
     },
     "execution_count": 42,
     "metadata": {},
     "output_type": "execute_result"
    }
   ],
   "source": [
    "s_1 = ''' Irfan '''\n",
    "s_2 = ' Irfan '\n",
    "\n",
    "s_3 = \"\"\" Naira \"\"\"\n",
    "s_4 = \" Naira \"\n",
    "\n",
    "s_5 = f\"output {10}\"\n",
    "s_6 = pd.read_csv(r\".\\nn\\pima-indians-diabetes.csv\")\n",
    "\n",
    "s_6.head(2)"
   ]
  }
 ],
 "metadata": {
  "kernelspec": {
   "display_name": "Python 3",
   "language": "python",
   "name": "python3"
  },
  "language_info": {
   "codemirror_mode": {
    "name": "ipython",
    "version": 3
   },
   "file_extension": ".py",
   "mimetype": "text/x-python",
   "name": "python",
   "nbconvert_exporter": "python",
   "pygments_lexer": "ipython3",
   "version": "3.12.9"
  }
 },
 "nbformat": 4,
 "nbformat_minor": 2
}
